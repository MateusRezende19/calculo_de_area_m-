{
  "nbformat": 4,
  "nbformat_minor": 0,
  "metadata": {
    "colab": {
      "provenance": [],
      "toc_visible": true,
      "authorship_tag": "ABX9TyOyJOsUUw2VQQp/ZT1ndZzh",
      "include_colab_link": true
    },
    "kernelspec": {
      "name": "python3",
      "display_name": "Python 3"
    },
    "language_info": {
      "name": "python"
    }
  },
  "cells": [
    {
      "cell_type": "markdown",
      "metadata": {
        "id": "view-in-github",
        "colab_type": "text"
      },
      "source": [
        "<a href=\"https://colab.research.google.com/github/MateusRezende19/calculo_de_area_m-/blob/main/calculo_de_area.ipynb\" target=\"_parent\"><img src=\"https://colab.research.google.com/assets/colab-badge.svg\" alt=\"Open In Colab\"/></a>"
      ]
    },
    {
      "cell_type": "code",
      "execution_count": 36,
      "metadata": {
        "colab": {
          "base_uri": "https://localhost:8080/"
        },
        "id": "d_2i1DFCnsYw",
        "outputId": "5ddc87ab-c0e7-4b4e-ee0d-940d0faae517"
      },
      "outputs": [
        {
          "name": "stdout",
          "output_type": "stream",
          "text": [
            "Digite a Largura Total: 30\n",
            "Digite o Comprimento Total: 65\n"
          ]
        }
      ],
      "source": [
        "largura = int(input (\"Digite a Largura Total: \"))\n",
        "comprimento = int(input (\"Digite o Comprimento Total: \"))\n",
        "area = largura * comprimento"
      ]
    },
    {
      "cell_type": "code",
      "source": [
        "print(\"A área calculada é de: \" + str(area) + \"m²\")"
      ],
      "metadata": {
        "colab": {
          "base_uri": "https://localhost:8080/"
        },
        "id": "rVVfosQIo-vF",
        "outputId": "cfb4e1bc-bf60-41d0-e3a0-5d9b117ce2c8"
      },
      "execution_count": 37,
      "outputs": [
        {
          "output_type": "stream",
          "name": "stdout",
          "text": [
            "A área calculada é de: 1950m²\n"
          ]
        }
      ]
    }
  ]
}